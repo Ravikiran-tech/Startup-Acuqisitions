{
  "nbformat": 4,
  "nbformat_minor": 0,
  "metadata": {
    "colab": {
      "provenance": []
    },
    "kernelspec": {
      "name": "python3",
      "display_name": "Python 3"
    },
    "language_info": {
      "name": "python"
    }
  },
  "cells": [
    {
      "cell_type": "code",
      "source": [
        "import pandas as pd\n",
        "import numpy as np\n",
        "import matplotlib.pyplot as plt\n",
        "import seaborn as sns\n",
        "\n",
        "from sklearn.preprocessing import StandardScaler\n",
        "from sklearn.model_selection import train_test_split,cross_val_score,StratifiedKFold,GridSearchCV,RandomizedSearchCV\n",
        "from imblearn.under_sampling import NearMiss\n",
        "from sklearn.decomposition import PCA\n",
        "from sklearn import preprocessing, model_selection\n",
        "from sklearn.metrics import accuracy_score,confusion_matrix,classification_report,roc_curve,auc\n",
        "from sklearn.ensemble import RandomForestClassifier\n",
        "from sklearn.neighbors import KNeighborsClassifier\n",
        "from sklearn.pipeline import Pipeline\n"
      ],
      "metadata": {
        "id": "jYRit_LpKnCl"
      },
      "execution_count": 1,
      "outputs": []
    },
    {
      "cell_type": "code",
      "execution_count": 2,
      "metadata": {
        "id": "y5rmda8pKfrh"
      },
      "outputs": [],
      "source": [
        "dataset = pd.read_csv('/content/drive/MyDrive/techno/companies/company_coded_data.csv')"
      ]
    },
    {
      "cell_type": "code",
      "source": [
        "dataset.info()"
      ],
      "metadata": {
        "colab": {
          "base_uri": "https://localhost:8080/"
        },
        "id": "p0UggU45K1kG",
        "outputId": "79f13cbe-a6b8-4066-d786-234c4a76b198"
      },
      "execution_count": 3,
      "outputs": [
        {
          "output_type": "stream",
          "name": "stdout",
          "text": [
            "<class 'pandas.core.frame.DataFrame'>\n",
            "RangeIndex: 57437 entries, 0 to 57436\n",
            "Data columns (total 52 columns):\n",
            " #   Column                          Non-Null Count  Dtype  \n",
            "---  ------                          --------------  -----  \n",
            " 0   founded_at                      57437 non-null  int64  \n",
            " 1   first_funding_at                57437 non-null  float64\n",
            " 2   last_funding_at                 57437 non-null  float64\n",
            " 3   funding_rounds                  57437 non-null  float64\n",
            " 4   funding_total_usd               57437 non-null  float64\n",
            " 5   first_milestone_at              57437 non-null  float64\n",
            " 6   last_milestone_at               57437 non-null  float64\n",
            " 7   milestones                      57437 non-null  float64\n",
            " 8   relationships                   57437 non-null  float64\n",
            " 9   is_Closed                       57437 non-null  int64  \n",
            " 10  Active_Days                     57437 non-null  float64\n",
            " 11  category_code_advertising       57437 non-null  int64  \n",
            " 12  category_code_biotech           57437 non-null  int64  \n",
            " 13  category_code_cleantech         57437 non-null  int64  \n",
            " 14  category_code_consulting        57437 non-null  int64  \n",
            " 15  category_code_ecommerce         57437 non-null  int64  \n",
            " 16  category_code_education         57437 non-null  int64  \n",
            " 17  category_code_enterprise        57437 non-null  int64  \n",
            " 18  category_code_games_video       57437 non-null  int64  \n",
            " 19  category_code_hardware          57437 non-null  int64  \n",
            " 20  category_code_mobile            57437 non-null  int64  \n",
            " 21  category_code_network_hosting   57437 non-null  int64  \n",
            " 22  category_code_other             57437 non-null  int64  \n",
            " 23  category_code_public_relations  57437 non-null  int64  \n",
            " 24  category_code_software          57437 non-null  int64  \n",
            " 25  category_code_web               57437 non-null  int64  \n",
            " 26  country_code_ARG                57437 non-null  int64  \n",
            " 27  country_code_AUS                57437 non-null  int64  \n",
            " 28  country_code_BEL                57437 non-null  int64  \n",
            " 29  country_code_BRA                57437 non-null  int64  \n",
            " 30  country_code_CAN                57437 non-null  int64  \n",
            " 31  country_code_CHE                57437 non-null  int64  \n",
            " 32  country_code_CHN                57437 non-null  int64  \n",
            " 33  country_code_DEU                57437 non-null  int64  \n",
            " 34  country_code_DNK                57437 non-null  int64  \n",
            " 35  country_code_ESP                57437 non-null  int64  \n",
            " 36  country_code_FIN                57437 non-null  int64  \n",
            " 37  country_code_FRA                57437 non-null  int64  \n",
            " 38  country_code_GBR                57437 non-null  int64  \n",
            " 39  country_code_IND                57437 non-null  int64  \n",
            " 40  country_code_IRL                57437 non-null  int64  \n",
            " 41  country_code_ISR                57437 non-null  int64  \n",
            " 42  country_code_ITA                57437 non-null  int64  \n",
            " 43  country_code_JPN                57437 non-null  int64  \n",
            " 44  country_code_NLD                57437 non-null  int64  \n",
            " 45  country_code_POL                57437 non-null  int64  \n",
            " 46  country_code_RUS                57437 non-null  int64  \n",
            " 47  country_code_SGP                57437 non-null  int64  \n",
            " 48  country_code_SWE                57437 non-null  int64  \n",
            " 49  country_code_TUR                57437 non-null  int64  \n",
            " 50  country_code_USA                57437 non-null  int64  \n",
            " 51  country_code_other              57437 non-null  int64  \n",
            "dtypes: float64(9), int64(43)\n",
            "memory usage: 22.8 MB\n"
          ]
        }
      ]
    },
    {
      "cell_type": "code",
      "source": [
        "x = dataset.drop('is_Closed',axis = 1)\n",
        "y = dataset.is_Closed"
      ],
      "metadata": {
        "id": "4yx3L0ATM5BO"
      },
      "execution_count": 4,
      "outputs": []
    },
    {
      "cell_type": "code",
      "source": [
        "y.value_counts()"
      ],
      "metadata": {
        "colab": {
          "base_uri": "https://localhost:8080/"
        },
        "id": "ng9aHf8DYWZU",
        "outputId": "25239da0-52d5-4137-af84-d8e3a7519646"
      },
      "execution_count": 5,
      "outputs": [
        {
          "output_type": "execute_result",
          "data": {
            "text/plain": [
              "0    55854\n",
              "1     1583\n",
              "Name: is_Closed, dtype: int64"
            ]
          },
          "metadata": {},
          "execution_count": 5
        }
      ]
    },
    {
      "cell_type": "code",
      "source": [
        "scaler = StandardScaler()\n",
        "x_scaled = scaler.fit_transform(x)\n",
        "x_scaled"
      ],
      "metadata": {
        "colab": {
          "base_uri": "https://localhost:8080/"
        },
        "id": "f7sD5qcPM0SE",
        "outputId": "c245b0f0-c7da-490f-d127-392f9ff1a05e"
      },
      "execution_count": 6,
      "outputs": [
        {
          "output_type": "execute_result",
          "data": {
            "text/plain": [
              "array([[-0.06935314, -3.48124412, -2.5776107 , ..., -0.07148292,\n",
              "         0.86353885, -0.27498981],\n",
              "       [ 0.13844761,  0.17506959,  0.20757873, ..., -0.07148292,\n",
              "        -1.15802549,  3.63649843],\n",
              "       [ 0.24234799,  0.17506959,  0.20757873, ..., -0.07148292,\n",
              "        -1.15802549, -0.27498981],\n",
              "       ...,\n",
              "       [-4.84877052,  0.17506959,  0.20757873, ..., -0.07148292,\n",
              "         0.86353885, -0.27498981],\n",
              "       [ 0.24234799,  0.17506959,  0.20757873, ..., -0.07148292,\n",
              "         0.86353885, -0.27498981],\n",
              "       [ 0.13844761, -1.65308726, -2.5776107 , ..., -0.07148292,\n",
              "         0.86353885, -0.27498981]])"
            ]
          },
          "metadata": {},
          "execution_count": 6
        }
      ]
    },
    {
      "cell_type": "code",
      "source": [
        "X_train,X_test,Y_train,Y_test = train_test_split(x_scaled,y,random_state = 10,test_size=0.35)"
      ],
      "metadata": {
        "id": "9lmg4T_VNNLW"
      },
      "execution_count": 7,
      "outputs": []
    },
    {
      "cell_type": "code",
      "source": [
        "Y_train.value_counts()"
      ],
      "metadata": {
        "colab": {
          "base_uri": "https://localhost:8080/"
        },
        "id": "L8GTTZZpYcIj",
        "outputId": "bea02f06-b9da-4c25-9e93-0683eadca3a9"
      },
      "execution_count": 8,
      "outputs": [
        {
          "output_type": "execute_result",
          "data": {
            "text/plain": [
              "0    36318\n",
              "1     1016\n",
              "Name: is_Closed, dtype: int64"
            ]
          },
          "metadata": {},
          "execution_count": 8
        }
      ]
    },
    {
      "cell_type": "code",
      "source": [
        "# Importing necessary modules for metrics computation and visualization\n",
        "from sklearn.metrics import mean_squared_error, confusion_matrix, accuracy_score, precision_score, recall_score, classification_report, mean_absolute_error, f1_score\n",
        "import itertools\n",
        "\n",
        "# Definition of function to compute evaluation metrics\n",
        "def metric(y_test, y_pred, x_train, y_train, model):\n",
        "    # Computing test accuracy\n",
        "    test_acc = accuracy_score(y_test, y_pred)\n",
        "\n",
        "    # Computing train accuracy\n",
        "    train_acc = model.score(x_train, y_train)\n",
        "\n",
        "    # Computing precision score\n",
        "    precision = precision_score(y_test, y_pred, average='macro')\n",
        "\n",
        "    # Computing recall score\n",
        "    recall = recall_score(y_test, y_pred, average='macro')\n",
        "\n",
        "    # Computing mean squared error\n",
        "    mse = mean_squared_error(y_test, y_pred)\n",
        "\n",
        "    # Computing mean absolute error\n",
        "    mae = mean_absolute_error(y_test, y_pred)\n",
        "\n",
        "    # Computing F1_score\n",
        "    F1_score = f1_score(y_test, y_pred, average='macro')\n",
        "\n",
        "    # Printing computed metrics\n",
        "    print('Test accuracy score:', test_acc, \"%\")\n",
        "    print('Train accuracy score:', train_acc, \"%\")\n",
        "    print('Precision score:', precision, \"%\")\n",
        "    print('Recall score:', recall, \"%\")\n",
        "    print('Mean Squared Error:', mse, \"%\")\n",
        "    print('Mean Absolute Error:', mae, \"%\")\n",
        "    print('F1-score:', F1_score, \"%\")\n",
        "\n",
        "    # Printing classification report\n",
        "    print(\"Classification report:\")\n",
        "    print(classification_report(y_test, y_pred))\n",
        "\n",
        "    # Printing confusion matrix\n",
        "    print(\"Confusion Matrix\")\n",
        "    conf_mat = confusion_matrix(y_test, y_pred)\n",
        "    np.set_printoptions(precision=2)\n",
        "    fig1 = plt.figure(figsize=(7, 6))\n",
        "    plot_confusion_matrix(conf_mat, classes=y.value_counts().index.tolist(), title='Confusion matrix')\n",
        "\n",
        "    # Returning computed metrics\n",
        "    return test_acc, train_acc, precision, recall, mse, mae, F1_score\n",
        "\n",
        "# Definition of function to plot confusion matrix\n",
        "def plot_confusion_matrix(cm, classes, normalize=False, title='Confusion matrix', cmap=plt.cm.Reds):\n",
        "    # Plotting confusion matrix\n",
        "    plt.imshow(cm, interpolation='nearest', cmap=cmap)\n",
        "    plt.title(title)\n",
        "    plt.colorbar()\n",
        "    plt.xticks(range(cm.shape[0]))\n",
        "    plt.yticks(range(cm.shape[1]))\n",
        "\n",
        "    # Normalizing confusion matrix if required\n",
        "    if normalize:\n",
        "        cm = cm.astype('float') / cm.sum(axis=1)[:, np.newaxis]\n",
        "        cm = cm.round(2)\n",
        "    else:\n",
        "        cm = cm\n",
        "\n",
        "    thresh = cm.max() / 2.\n",
        "    for i, j in itertools.product(range(cm.shape[0]), range(cm.shape[1])):\n",
        "        plt.text(j, i, cm[i, j],\n",
        "                 horizontalalignment=\"center\",\n",
        "                 color=\"white\" if cm[i, j] > thresh else \"black\")\n",
        "\n",
        "    plt.tight_layout()\n",
        "    plt.ylabel('True label')\n",
        "    plt.xlabel('Predicted label')\n"
      ],
      "metadata": {
        "id": "khQwi3CkSMg7"
      },
      "execution_count": 9,
      "outputs": []
    },
    {
      "cell_type": "markdown",
      "source": [
        "**KNN**"
      ],
      "metadata": {
        "id": "q1FLKAEbpyCu"
      }
    },
    {
      "cell_type": "code",
      "source": [
        "knn = KNeighborsClassifier()"
      ],
      "metadata": {
        "id": "aXoSXLDUK1pt"
      },
      "execution_count": 10,
      "outputs": []
    },
    {
      "cell_type": "code",
      "source": [
        "train_acc_score =[]\n",
        "test_acc_score = []\n",
        "for i in range(1,30):\n",
        "    knn = KNeighborsClassifier(i)\n",
        "    knn.fit(X_train, Y_train)\n",
        "\n",
        "    y_pred_train = knn.predict(X_train)\n",
        "    train_accuracy = accuracy_score(Y_train, y_pred_train)\n",
        "\n",
        "    y_pred_test = knn.predict(X_test)\n",
        "    test_accuracy = accuracy_score(Y_test, y_pred_test)\n",
        "\n",
        "    train_acc_score.append(train_accuracy)\n",
        "    test_acc_score.append(test_accuracy)"
      ],
      "metadata": {
        "id": "hTJmFR4zK1sX"
      },
      "execution_count": 11,
      "outputs": []
    },
    {
      "cell_type": "code",
      "source": [
        "print(train_acc_score)\n",
        "print(test_acc_score)"
      ],
      "metadata": {
        "colab": {
          "base_uri": "https://localhost:8080/"
        },
        "id": "83mZ85KsUojX",
        "outputId": "abb805da-cadd-4049-ac10-573cf5d5d742"
      },
      "execution_count": 12,
      "outputs": [
        {
          "output_type": "stream",
          "name": "stdout",
          "text": [
            "[1.0, 0.9898483955643649, 0.990973375475438, 0.9862591739433224, 0.9874377243263514, 0.9843038517169336, 0.985268120212139, 0.983018160389993, 0.983768146997375, 0.9818396100069642, 0.9823753147265227, 0.980794985803825, 0.9814914019392511, 0.9801789253763326, 0.9806342743879574, 0.9794825092409064, 0.9799110730165532, 0.9791610864091712, 0.9794825092409064, 0.9785450259816789, 0.9788396635774361, 0.97814324744201, 0.9785718112176568, 0.977714683666363, 0.9779825360261424, 0.9772325494187604, 0.9775004017785397, 0.9770986232388708, 0.9772593346547384]\n",
            "[0.9865691687807789, 0.9839824901755957, 0.9852758294781874, 0.9829876137889867, 0.9834353081629608, 0.9811968362930906, 0.9819927374023778, 0.9804009351838034, 0.9811968362930906, 0.9797542655325076, 0.9805999104611252, 0.9791573397005422, 0.9795552902551858, 0.978361438591255, 0.9787593891458987, 0.9781624633139332, 0.9786599015072377, 0.9779137442172811, 0.9781624633139332, 0.9775157936626374, 0.9775655374819678, 0.9770680992886633, 0.9772173307466547, 0.9763219419987067, 0.976570661095359, 0.9761727105407153, 0.9762721981793762, 0.9757747599860718, 0.975923991444063]\n"
          ]
        }
      ]
    },
    {
      "cell_type": "code",
      "source": [
        "plt.figure()\n",
        "plt.plot(range(1,30),train_acc_score,color='blue',marker='o',markerfacecolor='red')\n",
        "plt.plot(range(1,30),test_acc_score,color='brown',marker='o',markerfacecolor='red')\n",
        "\n",
        "plt.xlabel('Values for K')\n",
        "plt.ylabel('Accuracy Score Value')\n",
        "plt.title('Accuracy Scores v/s K-Value')\n",
        "plt.show()"
      ],
      "metadata": {
        "colab": {
          "base_uri": "https://localhost:8080/",
          "height": 472
        },
        "id": "_Sy6xV1AK1vE",
        "outputId": "55d8c085-a231-47b3-b0e1-0ccdfc39b0ac"
      },
      "execution_count": 13,
      "outputs": [
        {
          "output_type": "display_data",
          "data": {
            "text/plain": [
              "<Figure size 640x480 with 1 Axes>"
            ],
            "image/png": "[encoded data removed]"
          },
          "metadata": {}
        }
      ]
    },
    {
      "cell_type": "code",
      "source": [
        "error_score = []\n",
        "for i in range(1,30):\n",
        "    knn = KNeighborsClassifier(i)\n",
        "    score = cross_val_score(knn,X_train,Y_train,cv=2)\n",
        "    error_score.append(1-(score.mean()))"
      ],
      "metadata": {
        "id": "C_4oovDAK1yS"
      },
      "execution_count": 14,
      "outputs": []
    },
    {
      "cell_type": "code",
      "source": [
        "plt.figure()\n",
        "plt.plot(range(1,30),error_score,color='blue',marker='o',markerfacecolor='red')\n",
        "plt.xlabel('Values for K')\n",
        "plt.ylabel('Error Score Value')\n",
        "plt.title('Error Score v/s K-Value')\n",
        "plt.show()"
      ],
      "metadata": {
        "colab": {
          "base_uri": "https://localhost:8080/",
          "height": 472
        },
        "id": "7OWX1s1ZK10i",
        "outputId": "ec6bfb51-5aab-4b3a-f1a4-4b3f719e8378"
      },
      "execution_count": 15,
      "outputs": [
        {
          "output_type": "display_data",
          "data": {
            "text/plain": [
              "<Figure size 640x480 with 1 Axes>"
            ],
            "image/png": "[encoded data removed]"
          },
          "metadata": {}
        }
      ]
    },
    {
      "cell_type": "code",
      "source": [
        "knn_1 = KNeighborsClassifier(n_neighbors=8)\n",
        "knn_1.fit(X_train,Y_train)\n",
        "predict_1 = knn_1.predict(X_test)\n",
        "\n",
        "print(accuracy_score(predict_1,Y_test))\n",
        "print(confusion_matrix(predict_1,Y_test))\n",
        "print(classification_report(Y_test,predict_1))"
      ],
      "metadata": {
        "colab": {
          "base_uri": "https://localhost:8080/"
        },
        "id": "WfpMVZwKK14M",
        "outputId": "3a2ff2d1-18ac-40ef-c04b-cb2a56877098"
      },
      "execution_count": 10,
      "outputs": [
        {
          "output_type": "stream",
          "name": "stdout",
          "text": [
            "0.9804009351838034\n",
            "[[19532   390]\n",
            " [    4   177]]\n",
            "              precision    recall  f1-score   support\n",
            "\n",
            "           0       0.98      1.00      0.99     19536\n",
            "           1       0.98      0.31      0.47       567\n",
            "\n",
            "    accuracy                           0.98     20103\n",
            "   macro avg       0.98      0.66      0.73     20103\n",
            "weighted avg       0.98      0.98      0.98     20103\n",
            "\n"
          ]
        }
      ]
    },
    {
      "cell_type": "code",
      "source": [
        "metric(Y_test, predict_1, X_train, Y_train, knn_1)"
      ],
      "metadata": {
        "colab": {
          "base_uri": "https://localhost:8080/",
          "height": 1000
        },
        "id": "BFp5aYqcGCDT",
        "outputId": "720f9e04-4311-4f88-edaf-69e4dfc3d8ec"
      },
      "execution_count": 12,
      "outputs": [
        {
          "output_type": "stream",
          "name": "stdout",
          "text": [
            "Test accuracy score: 0.9804009351838034 %\n",
            "Train accuracy score: 0.983018160389993 %\n",
            "Precision score: 0.9791621023649693 %\n",
            "Recall score: 0.655982280982281 %\n",
            "Mean Squared Error: 0.01959906481619659 %\n",
            "Mean Absolute Error: 0.01959906481619659 %\n",
            "F1-score: 0.7316383656296833 %\n",
            "Classification report:\n",
            "              precision    recall  f1-score   support\n",
            "\n",
            "           0       0.98      1.00      0.99     19536\n",
            "           1       0.98      0.31      0.47       567\n",
            "\n",
            "    accuracy                           0.98     20103\n",
            "   macro avg       0.98      0.66      0.73     20103\n",
            "weighted avg       0.98      0.98      0.98     20103\n",
            "\n",
            "Confusion Matrix\n"
          ]
        },
        {
          "output_type": "execute_result",
          "data": {
            "text/plain": [
              "(0.9804009351838034,\n",
              " 0.983018160389993,\n",
              " 0.9791621023649693,\n",
              " 0.655982280982281,\n",
              " 0.01959906481619659,\n",
              " 0.01959906481619659,\n",
              " 0.7316383656296833)"
            ]
          },
          "metadata": {},
          "execution_count": 12
        },
        {
          "output_type": "display_data",
          "data": {
            "text/plain": [
              "<Figure size 700x600 with 2 Axes>"
            ],
            "image/png": "[encoded data removed]"
          },
          "metadata": {}
        }
      ]
    },
    {
      "cell_type": "code",
      "source": [
        "grid_params = { 'n_neighbors' : [7,8,9,11,13,15,17],\n",
        "               'weights' : ['uniform','distance'],\n",
        "               'metric' : ['minkowski','euclidean','manhattan']}"
      ],
      "metadata": {
        "id": "cwBMbf4aK16r"
      },
      "execution_count": 17,
      "outputs": []
    },
    {
      "cell_type": "code",
      "source": [
        "gs = GridSearchCV(KNeighborsClassifier(), grid_params, verbose = 1, cv=2, n_jobs = -1)\n",
        "g_res = gs.fit(X_train, Y_train)\n",
        "g_res.best_score_"
      ],
      "metadata": {
        "colab": {
          "base_uri": "https://localhost:8080/"
        },
        "id": "MFtMULlEK19I",
        "outputId": "8a21933d-00d9-4a64-ee4e-4209c44f8410"
      },
      "execution_count": 18,
      "outputs": [
        {
          "output_type": "stream",
          "name": "stdout",
          "text": [
            "Fitting 2 folds for each of 42 candidates, totalling 84 fits\n"
          ]
        },
        {
          "output_type": "execute_result",
          "data": {
            "text/plain": [
              "0.9806878448599132"
            ]
          },
          "metadata": {},
          "execution_count": 18
        }
      ]
    },
    {
      "cell_type": "code",
      "source": [
        "g_res.best_params_"
      ],
      "metadata": {
        "colab": {
          "base_uri": "https://localhost:8080/"
        },
        "id": "RXz_RdlVNd6P",
        "outputId": "7652650f-02af-4ea4-d109-ebb66496229a"
      },
      "execution_count": 19,
      "outputs": [
        {
          "output_type": "execute_result",
          "data": {
            "text/plain": [
              "{'metric': 'minkowski', 'n_neighbors': 7, 'weights': 'distance'}"
            ]
          },
          "metadata": {},
          "execution_count": 19
        }
      ]
    },
    {
      "cell_type": "code",
      "source": [
        "knn = KNeighborsClassifier(n_neighbors = 13, weights = 'uniform',metric = 'manhattan')"
      ],
      "metadata": {
        "id": "CRs5J0RcNd-x"
      },
      "execution_count": 14,
      "outputs": []
    },
    {
      "cell_type": "code",
      "source": [
        "knn.fit(X_train, Y_train)\n",
        "y_pred = knn.predict(X_test)"
      ],
      "metadata": {
        "id": "tmbj1D_fNeBT"
      },
      "execution_count": 15,
      "outputs": []
    },
    {
      "cell_type": "code",
      "source": [
        "metric(Y_test, y_pred, X_train, Y_train, knn)"
      ],
      "metadata": {
        "colab": {
          "base_uri": "https://localhost:8080/",
          "height": 1000
        },
        "id": "ChMv35zGGnXm",
        "outputId": "cd27bcae-8644-44b4-829f-98ab34a35df2"
      },
      "execution_count": 18,
      "outputs": [
        {
          "output_type": "stream",
          "name": "stdout",
          "text": [
            "Test accuracy score: 0.9776152813012983 %\n",
            "Train accuracy score: 0.9797771468366636 %\n",
            "Precision score: 0.9887421194836385 %\n",
            "Recall score: 0.6031746031746031 %\n",
            "Mean Squared Error: 0.022384718698701685 %\n",
            "Mean Absolute Error: 0.022384718698701685 %\n",
            "F1-score: 0.6653595998497839 %\n",
            "Classification report:\n",
            "              precision    recall  f1-score   support\n",
            "\n",
            "           0       0.98      1.00      0.99     19536\n",
            "           1       1.00      0.21      0.34       567\n",
            "\n",
            "    accuracy                           0.98     20103\n",
            "   macro avg       0.99      0.60      0.67     20103\n",
            "weighted avg       0.98      0.98      0.97     20103\n",
            "\n",
            "Confusion Matrix\n"
          ]
        },
        {
          "output_type": "execute_result",
          "data": {
            "text/plain": [
              "(0.9776152813012983,\n",
              " 0.9797771468366636,\n",
              " 0.9887421194836385,\n",
              " 0.6031746031746031,\n",
              " 0.022384718698701685,\n",
              " 0.022384718698701685,\n",
              " 0.6653595998497839)"
            ]
          },
          "metadata": {},
          "execution_count": 18
        },
        {
          "output_type": "display_data",
          "data": {
            "text/plain": [
              "<Figure size 700x600 with 2 Axes>"
            ],
            "image/png": "[encoded data removed]"
          },
          "metadata": {}
        }
      ]
    },
    {
      "cell_type": "code",
      "source": [
        "pipeline_KNeighborsClassifier= Pipeline([('scaler2', StandardScaler()),\n",
        "                                        ('pca2',PCA(n_components=2)),\n",
        "                                        ('kNN_classifier',KNeighborsClassifier(n_neighbors = 7))])"
      ],
      "metadata": {
        "id": "nDgzxelgNeGJ"
      },
      "execution_count": 22,
      "outputs": []
    },
    {
      "cell_type": "code",
      "source": [
        "pipeline_KNeighborsClassifier.fit(X_train,Y_train)\n",
        "pred = pipeline_KNeighborsClassifier.predict(X_test)\n",
        "accuracy_score(Y_test,pred)"
      ],
      "metadata": {
        "colab": {
          "base_uri": "https://localhost:8080/"
        },
        "id": "IcJRdyMhNeIL",
        "outputId": "cb9ebe07-c891-40fc-afc9-6ece34c56fc3"
      },
      "execution_count": 25,
      "outputs": [
        {
          "output_type": "execute_result",
          "data": {
            "text/plain": [
              "0.9708998656916878"
            ]
          },
          "metadata": {},
          "execution_count": 25
        }
      ]
    },
    {
      "cell_type": "code",
      "source": [],
      "metadata": {
        "id": "ctL-K4bHNeKC"
      },
      "execution_count": null,
      "outputs": []
    },
    {
      "cell_type": "markdown",
      "source": [
        "**Random forest classifier**"
      ],
      "metadata": {
        "id": "GL1cXZsFI-Hc"
      }
    },
    {
      "cell_type": "code",
      "source": [
        "from sklearn.ensemble import RandomForestClassifier\n",
        "forest_reg = RandomForestClassifier()\n",
        "forest_reg.fit(X_train, Y_train)"
      ],
      "metadata": {
        "colab": {
          "base_uri": "https://localhost:8080/",
          "height": 75
        },
        "id": "pskXM0R_SMUY",
        "outputId": "ea0026b4-9442-47a9-c3de-0d5a1cca3829"
      },
      "execution_count": 20,
      "outputs": [
        {
          "output_type": "execute_result",
          "data": {
            "text/plain": [
              "RandomForestClassifier()"
            ],
            "text/html": [
              "<style>#sk-container-id-2 {color: black;background-color: white;}#sk-container-id-2 pre{padding: 0;}#sk-container-id-2 div.sk-toggleable {background-color: white;}#sk-container-id-2 label.sk-toggleable__label {cursor: pointer;display: block;width: 100%;margin-bottom: 0;padding: 0.3em;box-sizing: border-box;text-align: center;}#sk-container-id-2 label.sk-toggleable__label-arrow:before {content: \"▸\";float: left;margin-right: 0.25em;color: #696969;}#sk-container-id-2 label.sk-toggleable__label-arrow:hover:before {color: black;}#sk-container-id-2 div.sk-estimator:hover label.sk-toggleable__label-arrow:before {color: black;}#sk-container-id-2 div.sk-toggleable__content {max-height: 0;max-width: 0;overflow: hidden;text-align: left;background-color: #f0f8ff;}#sk-container-id-2 div.sk-toggleable__content pre {margin: 0.2em;color: black;border-radius: 0.25em;background-color: #f0f8ff;}#sk-container-id-2 input.sk-toggleable__control:checked~div.sk-toggleable__content {max-height: 200px;max-width: 100%;overflow: auto;}#sk-container-id-2 input.sk-toggleable__control:checked~label.sk-toggleable__label-arrow:before {content: \"▾\";}#sk-container-id-2 div.sk-estimator input.sk-toggleable__control:checked~label.sk-toggleable__label {background-color: #d4ebff;}#sk-container-id-2 div.sk-label input.sk-toggleable__control:checked~label.sk-toggleable__label {background-color: #d4ebff;}#sk-container-id-2 input.sk-hidden--visually {border: 0;clip: rect(1px 1px 1px 1px);clip: rect(1px, 1px, 1px, 1px);height: 1px;margin: -1px;overflow: hidden;padding: 0;position: absolute;width: 1px;}#sk-container-id-2 div.sk-estimator {font-family: monospace;background-color: #f0f8ff;border: 1px dotted black;border-radius: 0.25em;box-sizing: border-box;margin-bottom: 0.5em;}#sk-container-id-2 div.sk-estimator:hover {background-color: #d4ebff;}#sk-container-id-2 div.sk-parallel-item::after {content: \"\";width: 100%;border-bottom: 1px solid gray;flex-grow: 1;}#sk-container-id-2 div.sk-label:hover label.sk-toggleable__label {background-color: #d4ebff;}#sk-container-id-2 div.sk-serial::before {content: \"\";position: absolute;border-left: 1px solid gray;box-sizing: border-box;top: 0;bottom: 0;left: 50%;z-index: 0;}#sk-container-id-2 div.sk-serial {display: flex;flex-direction: column;align-items: center;background-color: white;padding-right: 0.2em;padding-left: 0.2em;position: relative;}#sk-container-id-2 div.sk-item {position: relative;z-index: 1;}#sk-container-id-2 div.sk-parallel {display: flex;align-items: stretch;justify-content: center;background-color: white;position: relative;}#sk-container-id-2 div.sk-item::before, #sk-container-id-2 div.sk-parallel-item::before {content: \"\";position: absolute;border-left: 1px solid gray;box-sizing: border-box;top: 0;bottom: 0;left: 50%;z-index: -1;}#sk-container-id-2 div.sk-parallel-item {display: flex;flex-direction: column;z-index: 1;position: relative;background-color: white;}#sk-container-id-2 div.sk-parallel-item:first-child::after {align-self: flex-end;width: 50%;}#sk-container-id-2 div.sk-parallel-item:last-child::after {align-self: flex-start;width: 50%;}#sk-container-id-2 div.sk-parallel-item:only-child::after {width: 0;}#sk-container-id-2 div.sk-dashed-wrapped {border: 1px dashed gray;margin: 0 0.4em 0.5em 0.4em;box-sizing: border-box;padding-bottom: 0.4em;background-color: white;}#sk-container-id-2 div.sk-label label {font-family: monospace;font-weight: bold;display: inline-block;line-height: 1.2em;}#sk-container-id-2 div.sk-label-container {text-align: center;}#sk-container-id-2 div.sk-container {/* jupyter's `normalize.less` sets `[hidden] { display: none; }` but bootstrap.min.css set `[hidden] { display: none !important; }` so we also need the `!important` here to be able to override the default hidden behavior on the sphinx rendered scikit-learn.org. See: https://github.com/scikit-learn/scikit-learn/issues/21755 */display: inline-block !important;position: relative;}#sk-container-id-2 div.sk-text-repr-fallback {display: none;}</style><div id=\"sk-container-id-2\" class=\"sk-top-container\"><div class=\"sk-text-repr-fallback\"><pre>RandomForestClassifier()</pre><b>In a Jupyter environment, please rerun this cell to show the HTML representation or trust the notebook. <br />On GitHub, the HTML representation is unable to render, please try loading this page with nbviewer.org.</b></div><div class=\"sk-container\" hidden><div class=\"sk-item\"><div class=\"sk-estimator sk-toggleable\"><input class=\"sk-toggleable__control sk-hidden--visually\" id=\"sk-estimator-id-2\" type=\"checkbox\" checked><label for=\"sk-estimator-id-2\" class=\"sk-toggleable__label sk-toggleable__label-arrow\">RandomForestClassifier</label><div class=\"sk-toggleable__content\"><pre>RandomForestClassifier()</pre></div></div></div></div></div>"
            ]
          },
          "metadata": {},
          "execution_count": 20
        }
      ]
    },
    {
      "cell_type": "code",
      "source": [
        "forest_reg_predict = forest_reg.predict(X_test)\n",
        "metric(Y_test, forest_reg_predict, X_train, Y_train, forest_reg)"
      ],
      "metadata": {
        "colab": {
          "base_uri": "https://localhost:8080/",
          "height": 1000
        },
        "id": "gHK98yc4SMWj",
        "outputId": "f04226dd-0d88-4ec4-adf5-0cc12cd86c6a"
      },
      "execution_count": 21,
      "outputs": [
        {
          "output_type": "stream",
          "name": "stdout",
          "text": [
            "Test accuracy score: 0.9990548674327215 %\n",
            "Train accuracy score: 1.0 %\n",
            "Precision score: 0.9995141907440552 %\n",
            "Recall score: 0.9832451499118166 %\n",
            "Mean Squared Error: 0.0009451325672785156 %\n",
            "Mean Absolute Error: 0.0009451325672785156 %\n",
            "F1-score: 0.9912367979371577 %\n",
            "Classification report:\n",
            "              precision    recall  f1-score   support\n",
            "\n",
            "           0       1.00      1.00      1.00     19536\n",
            "           1       1.00      0.97      0.98       567\n",
            "\n",
            "    accuracy                           1.00     20103\n",
            "   macro avg       1.00      0.98      0.99     20103\n",
            "weighted avg       1.00      1.00      1.00     20103\n",
            "\n",
            "Confusion Matrix\n"
          ]
        },
        {
          "output_type": "execute_result",
          "data": {
            "text/plain": [
              "(0.9990548674327215,\n",
              " 1.0,\n",
              " 0.9995141907440552,\n",
              " 0.9832451499118166,\n",
              " 0.0009451325672785156,\n",
              " 0.0009451325672785156,\n",
              " 0.9912367979371577)"
            ]
          },
          "metadata": {},
          "execution_count": 21
        },
        {
          "output_type": "display_data",
          "data": {
            "text/plain": [
              "<Figure size 700x600 with 2 Axes>"
            ],
            "image/png": "[encoded data removed]"
          },
          "metadata": {}
        }
      ]
    },
    {
      "cell_type": "code",
      "source": [
        "rfc = RandomForestClassifier()"
      ],
      "metadata": {
        "id": "9SaWyFTiSqYJ"
      },
      "execution_count": 32,
      "outputs": []
    },
    {
      "cell_type": "code",
      "source": [
        "for i in range(0,10):\n",
        "    x_train,x_test,y_train,y_test = train_test_split(x_scaled, y, random_state = i, test_size = 0.25)\n",
        "    rfc.fit(x_train,y_train)\n",
        "    pred_train = rfc.predict(x_train)\n",
        "    pred_test = rfc.predict(x_test)\n",
        "    if  round(accuracy_score(y_test,pred_test)*100,1) >= 93:\n",
        "        print('At Random state:',i)\n",
        "        print('Training score :',round(accuracy_score(y_train,pred_train)*100,1))\n",
        "        print('Testing score:',round(accuracy_score(y_test,pred_test)*100,1))\n"
      ],
      "metadata": {
        "colab": {
          "base_uri": "https://localhost:8080/"
        },
        "id": "kLqJrpFGSMax",
        "outputId": "9480e25b-1dfe-4215-83f2-9ce51d25382f"
      },
      "execution_count": 33,
      "outputs": [
        {
          "output_type": "stream",
          "name": "stdout",
          "text": [
            "At Random state: 0\n",
            "Training score : 100.0\n",
            "Testing score: 99.9\n",
            "At Random state: 1\n",
            "Training score : 100.0\n",
            "Testing score: 99.9\n",
            "At Random state: 2\n",
            "Training score : 100.0\n",
            "Testing score: 99.9\n",
            "At Random state: 3\n",
            "Training score : 100.0\n",
            "Testing score: 99.9\n",
            "At Random state: 4\n",
            "Training score : 100.0\n",
            "Testing score: 99.9\n",
            "At Random state: 5\n",
            "Training score : 100.0\n",
            "Testing score: 99.9\n",
            "At Random state: 6\n",
            "Training score : 100.0\n",
            "Testing score: 99.8\n",
            "At Random state: 7\n",
            "Training score : 100.0\n",
            "Testing score: 99.9\n",
            "At Random state: 8\n",
            "Training score : 100.0\n",
            "Testing score: 99.9\n",
            "At Random state: 9\n",
            "Training score : 100.0\n",
            "Testing score: 99.9\n"
          ]
        }
      ]
    },
    {
      "cell_type": "markdown",
      "source": [
        "**RandomizedSearchCV**"
      ],
      "metadata": {
        "id": "DG9fewcvMXb3"
      }
    },
    {
      "cell_type": "code",
      "source": [
        "n_estimators = [int(X) for X in np.linspace(start=100,stop=2000,num=10)]\n",
        "max_features = ['auto','sqrt','log2']\n",
        "max_depth = [int(X) for X in np.linspace(5,100,15)]\n",
        "min_samples_split = [2,5,10,20,50]\n",
        "min_samples_leaf = [2,6,10,20,40]"
      ],
      "metadata": {
        "id": "ymOry1mSeUmG"
      },
      "execution_count": 22,
      "outputs": []
    },
    {
      "cell_type": "code",
      "source": [
        "rf_base = RandomForestClassifier()\n",
        "random_grid = {'n_estimators':n_estimators,\n",
        "               'max_depth':max_depth,\n",
        "               'min_samples_split':min_samples_split,\n",
        "               'min_samples_leaf':min_samples_leaf,\n",
        "               'max_features':max_features}"
      ],
      "metadata": {
        "id": "MvXiHESaeUyb"
      },
      "execution_count": 23,
      "outputs": []
    },
    {
      "cell_type": "code",
      "source": [
        "rf_tuned = RandomizedSearchCV(rf_base,param_distributions=random_grid,scoring='neg_mean_squared_error',cv=2,verbose=2,random_state=10)\n",
        "rf_tuned.fit(X_train, Y_train)"
      ],
      "metadata": {
        "colab": {
          "base_uri": "https://localhost:8080/",
          "height": 620
        },
        "id": "lAi5163JeU0s",
        "outputId": "d837fa1d-574b-44a3-c61f-f5232a61c5dd"
      },
      "execution_count": 25,
      "outputs": [
        {
          "metadata": {
            "tags": null
          },
          "name": "stdout",
          "output_type": "stream",
          "text": [
            "Fitting 2 folds for each of 10 candidates, totalling 20 fits\n",
            "[CV] END max_depth=11, max_features=log2, min_samples_leaf=2, min_samples_split=20, n_estimators=2000; total time=  34.8s\n",
            "[CV] END max_depth=11, max_features=log2, min_samples_leaf=2, min_samples_split=20, n_estimators=2000; total time=  26.7s\n",
            "[CV] END max_depth=66, max_features=log2, min_samples_leaf=2, min_samples_split=50, n_estimators=733; total time=  11.4s\n",
            "[CV] END max_depth=66, max_features=log2, min_samples_leaf=2, min_samples_split=50, n_estimators=733; total time=   9.3s\n",
            "[CV] END max_depth=11, max_features=log2, min_samples_leaf=6, min_samples_split=50, n_estimators=944; total time=  12.0s\n",
            "[CV] END max_depth=11, max_features=log2, min_samples_leaf=6, min_samples_split=50, n_estimators=944; total time=  15.2s\n",
            "[CV] END max_depth=66, max_features=log2, min_samples_leaf=2, min_samples_split=50, n_estimators=311; total time=   9.2s\n",
            "[CV] END max_depth=66, max_features=log2, min_samples_leaf=2, min_samples_split=50, n_estimators=311; total time=   8.2s\n",
            "[CV] END max_depth=86, max_features=sqrt, min_samples_leaf=10, min_samples_split=10, n_estimators=522; total time=   7.4s\n",
            "[CV] END max_depth=86, max_features=sqrt, min_samples_leaf=10, min_samples_split=10, n_estimators=522; total time=   8.5s\n",
            "[CV] END max_depth=93, max_features=sqrt, min_samples_leaf=40, min_samples_split=2, n_estimators=311; total time=   4.4s\n",
            "[CV] END max_depth=93, max_features=sqrt, min_samples_leaf=40, min_samples_split=2, n_estimators=311; total time=   5.0s\n",
            "[CV] END max_depth=45, max_features=sqrt, min_samples_leaf=6, min_samples_split=10, n_estimators=2000; total time=  36.0s\n",
            "[CV] END max_depth=45, max_features=sqrt, min_samples_leaf=6, min_samples_split=10, n_estimators=2000; total time=  40.9s\n"
          ]
        },
        {
          "metadata": {
            "tags": null
          },
          "name": "stderr",
          "output_type": "stream",
          "text": [
            "/usr/local/lib/python3.10/dist-packages/sklearn/ensemble/_forest.py:424: FutureWarning: `max_features='auto'` has been deprecated in 1.1 and will be removed in 1.3. To keep the past behaviour, explicitly set `max_features='sqrt'` or remove this parameter as it is also the default value for RandomForestClassifiers and ExtraTreesClassifiers.\n",
            "  warn(\n"
          ]
        },
        {
          "metadata": {
            "tags": null
          },
          "name": "stdout",
          "output_type": "stream",
          "text": [
            "[CV] END max_depth=18, max_features=auto, min_samples_leaf=2, min_samples_split=10, n_estimators=100; total time=   1.7s\n"
          ]
        },
        {
          "metadata": {
            "tags": null
          },
          "name": "stderr",
          "output_type": "stream",
          "text": [
            "/usr/local/lib/python3.10/dist-packages/sklearn/ensemble/_forest.py:424: FutureWarning: `max_features='auto'` has been deprecated in 1.1 and will be removed in 1.3. To keep the past behaviour, explicitly set `max_features='sqrt'` or remove this parameter as it is also the default value for RandomForestClassifiers and ExtraTreesClassifiers.\n",
            "  warn(\n"
          ]
        },
        {
          "output_type": "stream",
          "name": "stdout",
          "text": [
            "[CV] END max_depth=18, max_features=auto, min_samples_leaf=2, min_samples_split=10, n_estimators=100; total time=   1.8s\n",
            "[CV] END max_depth=93, max_features=sqrt, min_samples_leaf=10, min_samples_split=50, n_estimators=311; total time=   6.1s\n",
            "[CV] END max_depth=93, max_features=sqrt, min_samples_leaf=10, min_samples_split=50, n_estimators=311; total time=   4.4s\n",
            "[CV] END max_depth=93, max_features=sqrt, min_samples_leaf=40, min_samples_split=20, n_estimators=944; total time=  14.4s\n",
            "[CV] END max_depth=93, max_features=sqrt, min_samples_leaf=40, min_samples_split=20, n_estimators=944; total time=  13.1s\n"
          ]
        },
        {
          "output_type": "stream",
          "name": "stderr",
          "text": [
            "/usr/local/lib/python3.10/dist-packages/sklearn/ensemble/_forest.py:424: FutureWarning: `max_features='auto'` has been deprecated in 1.1 and will be removed in 1.3. To keep the past behaviour, explicitly set `max_features='sqrt'` or remove this parameter as it is also the default value for RandomForestClassifiers and ExtraTreesClassifiers.\n",
            "  warn(\n"
          ]
        },
        {
          "output_type": "execute_result",
          "data": {
            "text/plain": [
              "RandomizedSearchCV(cv=2, estimator=RandomForestClassifier(),\n",
              "                   param_distributions={'max_depth': [5, 11, 18, 25, 32, 38, 45,\n",
              "                                                      52, 59, 66, 72, 79, 86,\n",
              "                                                      93, 100],\n",
              "                                        'max_features': ['auto', 'sqrt',\n",
              "                                                         'log2'],\n",
              "                                        'min_samples_leaf': [2, 6, 10, 20, 40],\n",
              "                                        'min_samples_split': [2, 5, 10, 20, 50],\n",
              "                                        'n_estimators': [100, 311, 522, 733,\n",
              "                                                         944, 1155, 1366, 1577,\n",
              "                                                         1788, 2000]},\n",
              "                   random_state=10, scoring='neg_mean_squared_error',\n",
              "                   verbose=2)"
            ],
            "text/html": [
              "<style>#sk-container-id-3 {color: black;background-color: white;}#sk-container-id-3 pre{padding: 0;}#sk-container-id-3 div.sk-toggleable {background-color: white;}#sk-container-id-3 label.sk-toggleable__label {cursor: pointer;display: block;width: 100%;margin-bottom: 0;padding: 0.3em;box-sizing: border-box;text-align: center;}#sk-container-id-3 label.sk-toggleable__label-arrow:before {content: \"▸\";float: left;margin-right: 0.25em;color: #696969;}#sk-container-id-3 label.sk-toggleable__label-arrow:hover:before {color: black;}#sk-container-id-3 div.sk-estimator:hover label.sk-toggleable__label-arrow:before {color: black;}#sk-container-id-3 div.sk-toggleable__content {max-height: 0;max-width: 0;overflow: hidden;text-align: left;background-color: #f0f8ff;}#sk-container-id-3 div.sk-toggleable__content pre {margin: 0.2em;color: black;border-radius: 0.25em;background-color: #f0f8ff;}#sk-container-id-3 input.sk-toggleable__control:checked~div.sk-toggleable__content {max-height: 200px;max-width: 100%;overflow: auto;}#sk-container-id-3 input.sk-toggleable__control:checked~label.sk-toggleable__label-arrow:before {content: \"▾\";}#sk-container-id-3 div.sk-estimator input.sk-toggleable__control:checked~label.sk-toggleable__label {background-color: #d4ebff;}#sk-container-id-3 div.sk-label input.sk-toggleable__control:checked~label.sk-toggleable__label {background-color: #d4ebff;}#sk-container-id-3 input.sk-hidden--visually {border: 0;clip: rect(1px 1px 1px 1px);clip: rect(1px, 1px, 1px, 1px);height: 1px;margin: -1px;overflow: hidden;padding: 0;position: absolute;width: 1px;}#sk-container-id-3 div.sk-estimator {font-family: monospace;background-color: #f0f8ff;border: 1px dotted black;border-radius: 0.25em;box-sizing: border-box;margin-bottom: 0.5em;}#sk-container-id-3 div.sk-estimator:hover {background-color: #d4ebff;}#sk-container-id-3 div.sk-parallel-item::after {content: \"\";width: 100%;border-bottom: 1px solid gray;flex-grow: 1;}#sk-container-id-3 div.sk-label:hover label.sk-toggleable__label {background-color: #d4ebff;}#sk-container-id-3 div.sk-serial::before {content: \"\";position: absolute;border-left: 1px solid gray;box-sizing: border-box;top: 0;bottom: 0;left: 50%;z-index: 0;}#sk-container-id-3 div.sk-serial {display: flex;flex-direction: column;align-items: center;background-color: white;padding-right: 0.2em;padding-left: 0.2em;position: relative;}#sk-container-id-3 div.sk-item {position: relative;z-index: 1;}#sk-container-id-3 div.sk-parallel {display: flex;align-items: stretch;justify-content: center;background-color: white;position: relative;}#sk-container-id-3 div.sk-item::before, #sk-container-id-3 div.sk-parallel-item::before {content: \"\";position: absolute;border-left: 1px solid gray;box-sizing: border-box;top: 0;bottom: 0;left: 50%;z-index: -1;}#sk-container-id-3 div.sk-parallel-item {display: flex;flex-direction: column;z-index: 1;position: relative;background-color: white;}#sk-container-id-3 div.sk-parallel-item:first-child::after {align-self: flex-end;width: 50%;}#sk-container-id-3 div.sk-parallel-item:last-child::after {align-self: flex-start;width: 50%;}#sk-container-id-3 div.sk-parallel-item:only-child::after {width: 0;}#sk-container-id-3 div.sk-dashed-wrapped {border: 1px dashed gray;margin: 0 0.4em 0.5em 0.4em;box-sizing: border-box;padding-bottom: 0.4em;background-color: white;}#sk-container-id-3 div.sk-label label {font-family: monospace;font-weight: bold;display: inline-block;line-height: 1.2em;}#sk-container-id-3 div.sk-label-container {text-align: center;}#sk-container-id-3 div.sk-container {/* jupyter's `normalize.less` sets `[hidden] { display: none; }` but bootstrap.min.css set `[hidden] { display: none !important; }` so we also need the `!important` here to be able to override the default hidden behavior on the sphinx rendered scikit-learn.org. See: https://github.com/scikit-learn/scikit-learn/issues/21755 */display: inline-block !important;position: relative;}#sk-container-id-3 div.sk-text-repr-fallback {display: none;}</style><div id=\"sk-container-id-3\" class=\"sk-top-container\"><div class=\"sk-text-repr-fallback\"><pre>RandomizedSearchCV(cv=2, estimator=RandomForestClassifier(),\n",
              "                   param_distributions={&#x27;max_depth&#x27;: [5, 11, 18, 25, 32, 38, 45,\n",
              "                                                      52, 59, 66, 72, 79, 86,\n",
              "                                                      93, 100],\n",
              "                                        &#x27;max_features&#x27;: [&#x27;auto&#x27;, &#x27;sqrt&#x27;,\n",
              "                                                         &#x27;log2&#x27;],\n",
              "                                        &#x27;min_samples_leaf&#x27;: [2, 6, 10, 20, 40],\n",
              "                                        &#x27;min_samples_split&#x27;: [2, 5, 10, 20, 50],\n",
              "                                        &#x27;n_estimators&#x27;: [100, 311, 522, 733,\n",
              "                                                         944, 1155, 1366, 1577,\n",
              "                                                         1788, 2000]},\n",
              "                   random_state=10, scoring=&#x27;neg_mean_squared_error&#x27;,\n",
              "                   verbose=2)</pre><b>In a Jupyter environment, please rerun this cell to show the HTML representation or trust the notebook. <br />On GitHub, the HTML representation is unable to render, please try loading this page with nbviewer.org.</b></div><div class=\"sk-container\" hidden><div class=\"sk-item sk-dashed-wrapped\"><div class=\"sk-label-container\"><div class=\"sk-label sk-toggleable\"><input class=\"sk-toggleable__control sk-hidden--visually\" id=\"sk-estimator-id-3\" type=\"checkbox\" ><label for=\"sk-estimator-id-3\" class=\"sk-toggleable__label sk-toggleable__label-arrow\">RandomizedSearchCV</label><div class=\"sk-toggleable__content\"><pre>RandomizedSearchCV(cv=2, estimator=RandomForestClassifier(),\n",
              "                   param_distributions={&#x27;max_depth&#x27;: [5, 11, 18, 25, 32, 38, 45,\n",
              "                                                      52, 59, 66, 72, 79, 86,\n",
              "                                                      93, 100],\n",
              "                                        &#x27;max_features&#x27;: [&#x27;auto&#x27;, &#x27;sqrt&#x27;,\n",
              "                                                         &#x27;log2&#x27;],\n",
              "                                        &#x27;min_samples_leaf&#x27;: [2, 6, 10, 20, 40],\n",
              "                                        &#x27;min_samples_split&#x27;: [2, 5, 10, 20, 50],\n",
              "                                        &#x27;n_estimators&#x27;: [100, 311, 522, 733,\n",
              "                                                         944, 1155, 1366, 1577,\n",
              "                                                         1788, 2000]},\n",
              "                   random_state=10, scoring=&#x27;neg_mean_squared_error&#x27;,\n",
              "                   verbose=2)</pre></div></div></div><div class=\"sk-parallel\"><div class=\"sk-parallel-item\"><div class=\"sk-item\"><div class=\"sk-label-container\"><div class=\"sk-label sk-toggleable\"><input class=\"sk-toggleable__control sk-hidden--visually\" id=\"sk-estimator-id-4\" type=\"checkbox\" ><label for=\"sk-estimator-id-4\" class=\"sk-toggleable__label sk-toggleable__label-arrow\">estimator: RandomForestClassifier</label><div class=\"sk-toggleable__content\"><pre>RandomForestClassifier()</pre></div></div></div><div class=\"sk-serial\"><div class=\"sk-item\"><div class=\"sk-estimator sk-toggleable\"><input class=\"sk-toggleable__control sk-hidden--visually\" id=\"sk-estimator-id-5\" type=\"checkbox\" ><label for=\"sk-estimator-id-5\" class=\"sk-toggleable__label sk-toggleable__label-arrow\">RandomForestClassifier</label><div class=\"sk-toggleable__content\"><pre>RandomForestClassifier()</pre></div></div></div></div></div></div></div></div></div></div>"
            ]
          },
          "metadata": {},
          "execution_count": 25
        }
      ]
    },
    {
      "cell_type": "code",
      "source": [
        "rf_tuned.best_params_"
      ],
      "metadata": {
        "colab": {
          "base_uri": "https://localhost:8080/"
        },
        "id": "ePTfhoCneU2d",
        "outputId": "0504548a-58f6-4a10-8506-d33a541fb44d"
      },
      "execution_count": 26,
      "outputs": [
        {
          "output_type": "execute_result",
          "data": {
            "text/plain": [
              "{'n_estimators': 100,\n",
              " 'min_samples_split': 10,\n",
              " 'min_samples_leaf': 2,\n",
              " 'max_features': 'auto',\n",
              " 'max_depth': 18}"
            ]
          },
          "metadata": {},
          "execution_count": 26
        }
      ]
    },
    {
      "cell_type": "code",
      "source": [
        "rf_tun = RandomForestClassifier(n_estimators = 100, min_samples_split = 10, min_samples_leaf = 2, max_features= 'auto',max_depth = 18)\n",
        "rf_tun.fit(X_train, Y_train)\n",
        "Y_pred = rf_tun.predict(X_test)"
      ],
      "metadata": {
        "colab": {
          "base_uri": "https://localhost:8080/"
        },
        "id": "vwuhY2gHeU6M",
        "outputId": "f1b8a05f-43ab-4699-cb80-62dc9594ce76"
      },
      "execution_count": 28,
      "outputs": [
        {
          "output_type": "stream",
          "name": "stderr",
          "text": [
            "/usr/local/lib/python3.10/dist-packages/sklearn/ensemble/_forest.py:424: FutureWarning: `max_features='auto'` has been deprecated in 1.1 and will be removed in 1.3. To keep the past behaviour, explicitly set `max_features='sqrt'` or remove this parameter as it is also the default value for RandomForestClassifiers and ExtraTreesClassifiers.\n",
            "  warn(\n"
          ]
        }
      ]
    },
    {
      "cell_type": "code",
      "source": [
        "metric(Y_test, Y_pred, X_train, Y_train, rf_tun)"
      ],
      "metadata": {
        "colab": {
          "base_uri": "https://localhost:8080/",
          "height": 1000
        },
        "id": "Pd6QEGELeU8S",
        "outputId": "66fa602e-1040-4d23-824d-eac937eb2be5"
      },
      "execution_count": 30,
      "outputs": [
        {
          "output_type": "stream",
          "name": "stdout",
          "text": [
            "Test accuracy score: 0.999005123613391 %\n",
            "Train accuracy score: 0.998848234852949 %\n",
            "Precision score: 0.999488647985273 %\n",
            "Recall score: 0.982363315696649 %\n",
            "Mean Squared Error: 0.0009948763866089638 %\n",
            "Mean Absolute Error: 0.0009948763866089638 %\n",
            "F1-score: 0.9907675325030803 %\n",
            "Classification report:\n",
            "              precision    recall  f1-score   support\n",
            "\n",
            "           0       1.00      1.00      1.00     19536\n",
            "           1       1.00      0.96      0.98       567\n",
            "\n",
            "    accuracy                           1.00     20103\n",
            "   macro avg       1.00      0.98      0.99     20103\n",
            "weighted avg       1.00      1.00      1.00     20103\n",
            "\n",
            "Confusion Matrix\n"
          ]
        },
        {
          "output_type": "execute_result",
          "data": {
            "text/plain": [
              "(0.999005123613391,\n",
              " 0.998848234852949,\n",
              " 0.999488647985273,\n",
              " 0.982363315696649,\n",
              " 0.0009948763866089638,\n",
              " 0.0009948763866089638,\n",
              " 0.9907675325030803)"
            ]
          },
          "metadata": {},
          "execution_count": 30
        },
        {
          "output_type": "display_data",
          "data": {
            "text/plain": [
              "<Figure size 700x600 with 2 Axes>"
            ],
            "image/png": "[encoded data removed]"
          },
          "metadata": {}
        }
      ]
    },
    {
      "cell_type": "markdown",
      "source": [
        "**- GridSearchCV.**"
      ],
      "metadata": {
        "id": "0nGljU6aL197"
      }
    },
    {
      "cell_type": "code",
      "source": [
        "n_estimators_list = [130,160,190]\n",
        "criterion_list = ['gini']\n",
        "max_depth_list = [35,55]\n",
        "min_samples_split_list = [0.001, 0.005]\n",
        "min_samples_leaf_list = [0.001, 0.005]\n",
        "max_features_list = ['log2']"
      ],
      "metadata": {
        "id": "0oW5V_0_eU-T"
      },
      "execution_count": 31,
      "outputs": []
    },
    {
      "cell_type": "code",
      "source": [
        "params_grid = {'n_estimators': n_estimators_list,\n",
        "               'criterion': criterion_list,\n",
        "               'max_depth': max_depth_list,\n",
        "               'min_samples_split': min_samples_split_list,\n",
        "               'min_samples_leaf': min_samples_leaf_list,\n",
        "               'max_features': max_features_list}"
      ],
      "metadata": {
        "id": "I1L_GKbwL7e0"
      },
      "execution_count": 32,
      "outputs": []
    },
    {
      "cell_type": "code",
      "source": [
        "model_rfg = GridSearchCV(estimator=RandomForestClassifier(class_weight='balanced'),param_grid=params_grid,cv=3,verbose=4)\n",
        "model_rfg.fit(X_train,Y_train)"
      ],
      "metadata": {
        "colab": {
          "base_uri": "https://localhost:8080/",
          "height": 1000
        },
        "id": "LBzYUrBRL7nk",
        "outputId": "13689893-384e-4878-d81b-5cb4baa9b5ad"
      },
      "execution_count": 34,
      "outputs": [
        {
          "output_type": "stream",
          "name": "stdout",
          "text": [
            "Fitting 3 folds for each of 24 candidates, totalling 72 fits\n",
            "[CV 1/3] END criterion=gini, max_depth=35, max_features=log2, min_samples_leaf=0.001, min_samples_split=0.001, n_estimators=130;, score=0.996 total time=   3.8s\n",
            "[CV 2/3] END criterion=gini, max_depth=35, max_features=log2, min_samples_leaf=0.001, min_samples_split=0.001, n_estimators=130;, score=0.999 total time=   2.8s\n",
            "[CV 3/3] END criterion=gini, max_depth=35, max_features=log2, min_samples_leaf=0.001, min_samples_split=0.001, n_estimators=130;, score=0.998 total time=   1.8s\n",
            "[CV 1/3] END criterion=gini, max_depth=35, max_features=log2, min_samples_leaf=0.001, min_samples_split=0.001, n_estimators=160;, score=0.995 total time=   2.2s\n",
            "[CV 2/3] END criterion=gini, max_depth=35, max_features=log2, min_samples_leaf=0.001, min_samples_split=0.001, n_estimators=160;, score=0.998 total time=   2.1s\n",
            "[CV 3/3] END criterion=gini, max_depth=35, max_features=log2, min_samples_leaf=0.001, min_samples_split=0.001, n_estimators=160;, score=0.998 total time=   2.2s\n",
            "[CV 1/3] END criterion=gini, max_depth=35, max_features=log2, min_samples_leaf=0.001, min_samples_split=0.001, n_estimators=190;, score=0.996 total time=   3.1s\n",
            "[CV 2/3] END criterion=gini, max_depth=35, max_features=log2, min_samples_leaf=0.001, min_samples_split=0.001, n_estimators=190;, score=0.997 total time=   3.1s\n",
            "[CV 3/3] END criterion=gini, max_depth=35, max_features=log2, min_samples_leaf=0.001, min_samples_split=0.001, n_estimators=190;, score=0.998 total time=   2.6s\n",
            "[CV 1/3] END criterion=gini, max_depth=35, max_features=log2, min_samples_leaf=0.001, min_samples_split=0.005, n_estimators=130;, score=0.993 total time=   1.7s\n",
            "[CV 2/3] END criterion=gini, max_depth=35, max_features=log2, min_samples_leaf=0.001, min_samples_split=0.005, n_estimators=130;, score=0.997 total time=   1.6s\n",
            "[CV 3/3] END criterion=gini, max_depth=35, max_features=log2, min_samples_leaf=0.001, min_samples_split=0.005, n_estimators=130;, score=0.999 total time=   1.7s\n",
            "[CV 1/3] END criterion=gini, max_depth=35, max_features=log2, min_samples_leaf=0.001, min_samples_split=0.005, n_estimators=160;, score=0.989 total time=   2.7s\n",
            "[CV 2/3] END criterion=gini, max_depth=35, max_features=log2, min_samples_leaf=0.001, min_samples_split=0.005, n_estimators=160;, score=0.995 total time=   2.8s\n",
            "[CV 3/3] END criterion=gini, max_depth=35, max_features=log2, min_samples_leaf=0.001, min_samples_split=0.005, n_estimators=160;, score=0.998 total time=   2.1s\n",
            "[CV 1/3] END criterion=gini, max_depth=35, max_features=log2, min_samples_leaf=0.001, min_samples_split=0.005, n_estimators=190;, score=0.994 total time=   2.6s\n",
            "[CV 2/3] END criterion=gini, max_depth=35, max_features=log2, min_samples_leaf=0.001, min_samples_split=0.005, n_estimators=190;, score=0.996 total time=   2.5s\n",
            "[CV 3/3] END criterion=gini, max_depth=35, max_features=log2, min_samples_leaf=0.001, min_samples_split=0.005, n_estimators=190;, score=0.998 total time=   2.7s\n",
            "[CV 1/3] END criterion=gini, max_depth=35, max_features=log2, min_samples_leaf=0.005, min_samples_split=0.001, n_estimators=130;, score=0.953 total time=   2.3s\n",
            "[CV 2/3] END criterion=gini, max_depth=35, max_features=log2, min_samples_leaf=0.005, min_samples_split=0.001, n_estimators=130;, score=0.965 total time=   1.7s\n",
            "[CV 3/3] END criterion=gini, max_depth=35, max_features=log2, min_samples_leaf=0.005, min_samples_split=0.001, n_estimators=130;, score=0.934 total time=   1.5s\n",
            "[CV 1/3] END criterion=gini, max_depth=35, max_features=log2, min_samples_leaf=0.005, min_samples_split=0.001, n_estimators=160;, score=0.940 total time=   1.9s\n",
            "[CV 2/3] END criterion=gini, max_depth=35, max_features=log2, min_samples_leaf=0.005, min_samples_split=0.001, n_estimators=160;, score=0.976 total time=   1.8s\n",
            "[CV 3/3] END criterion=gini, max_depth=35, max_features=log2, min_samples_leaf=0.005, min_samples_split=0.001, n_estimators=160;, score=0.981 total time=   1.9s\n",
            "[CV 1/3] END criterion=gini, max_depth=35, max_features=log2, min_samples_leaf=0.005, min_samples_split=0.001, n_estimators=190;, score=0.960 total time=   2.3s\n",
            "[CV 2/3] END criterion=gini, max_depth=35, max_features=log2, min_samples_leaf=0.005, min_samples_split=0.001, n_estimators=190;, score=0.950 total time=   3.2s\n",
            "[CV 3/3] END criterion=gini, max_depth=35, max_features=log2, min_samples_leaf=0.005, min_samples_split=0.001, n_estimators=190;, score=0.956 total time=   2.2s\n",
            "[CV 1/3] END criterion=gini, max_depth=35, max_features=log2, min_samples_leaf=0.005, min_samples_split=0.005, n_estimators=130;, score=0.948 total time=   1.5s\n",
            "[CV 2/3] END criterion=gini, max_depth=35, max_features=log2, min_samples_leaf=0.005, min_samples_split=0.005, n_estimators=130;, score=0.958 total time=   1.5s\n",
            "[CV 3/3] END criterion=gini, max_depth=35, max_features=log2, min_samples_leaf=0.005, min_samples_split=0.005, n_estimators=130;, score=0.954 total time=   1.5s\n",
            "[CV 1/3] END criterion=gini, max_depth=35, max_features=log2, min_samples_leaf=0.005, min_samples_split=0.005, n_estimators=160;, score=0.950 total time=   2.2s\n",
            "[CV 2/3] END criterion=gini, max_depth=35, max_features=log2, min_samples_leaf=0.005, min_samples_split=0.005, n_estimators=160;, score=0.969 total time=   2.7s\n",
            "[CV 3/3] END criterion=gini, max_depth=35, max_features=log2, min_samples_leaf=0.005, min_samples_split=0.005, n_estimators=160;, score=0.954 total time=   2.6s\n",
            "[CV 1/3] END criterion=gini, max_depth=35, max_features=log2, min_samples_leaf=0.005, min_samples_split=0.005, n_estimators=190;, score=0.933 total time=   2.3s\n",
            "[CV 2/3] END criterion=gini, max_depth=35, max_features=log2, min_samples_leaf=0.005, min_samples_split=0.005, n_estimators=190;, score=0.972 total time=   2.3s\n",
            "[CV 3/3] END criterion=gini, max_depth=35, max_features=log2, min_samples_leaf=0.005, min_samples_split=0.005, n_estimators=190;, score=0.972 total time=   2.2s\n",
            "[CV 1/3] END criterion=gini, max_depth=55, max_features=log2, min_samples_leaf=0.001, min_samples_split=0.001, n_estimators=130;, score=0.998 total time=   1.8s\n",
            "[CV 2/3] END criterion=gini, max_depth=55, max_features=log2, min_samples_leaf=0.001, min_samples_split=0.001, n_estimators=130;, score=0.998 total time=   2.2s\n",
            "[CV 3/3] END criterion=gini, max_depth=55, max_features=log2, min_samples_leaf=0.001, min_samples_split=0.001, n_estimators=130;, score=0.997 total time=   2.6s\n",
            "[CV 1/3] END criterion=gini, max_depth=55, max_features=log2, min_samples_leaf=0.001, min_samples_split=0.001, n_estimators=160;, score=0.994 total time=   2.1s\n",
            "[CV 2/3] END criterion=gini, max_depth=55, max_features=log2, min_samples_leaf=0.001, min_samples_split=0.001, n_estimators=160;, score=0.998 total time=   2.1s\n",
            "[CV 3/3] END criterion=gini, max_depth=55, max_features=log2, min_samples_leaf=0.001, min_samples_split=0.001, n_estimators=160;, score=0.998 total time=   2.1s\n",
            "[CV 1/3] END criterion=gini, max_depth=55, max_features=log2, min_samples_leaf=0.001, min_samples_split=0.001, n_estimators=190;, score=0.997 total time=   2.6s\n",
            "[CV 2/3] END criterion=gini, max_depth=55, max_features=log2, min_samples_leaf=0.001, min_samples_split=0.001, n_estimators=190;, score=0.998 total time=   3.3s\n",
            "[CV 3/3] END criterion=gini, max_depth=55, max_features=log2, min_samples_leaf=0.001, min_samples_split=0.001, n_estimators=190;, score=0.997 total time=   2.9s\n",
            "[CV 1/3] END criterion=gini, max_depth=55, max_features=log2, min_samples_leaf=0.001, min_samples_split=0.005, n_estimators=130;, score=0.993 total time=   1.7s\n",
            "[CV 2/3] END criterion=gini, max_depth=55, max_features=log2, min_samples_leaf=0.001, min_samples_split=0.005, n_estimators=130;, score=0.997 total time=   1.7s\n",
            "[CV 3/3] END criterion=gini, max_depth=55, max_features=log2, min_samples_leaf=0.001, min_samples_split=0.005, n_estimators=130;, score=0.998 total time=   1.7s\n",
            "[CV 1/3] END criterion=gini, max_depth=55, max_features=log2, min_samples_leaf=0.001, min_samples_split=0.005, n_estimators=160;, score=0.994 total time=   2.1s\n",
            "[CV 2/3] END criterion=gini, max_depth=55, max_features=log2, min_samples_leaf=0.001, min_samples_split=0.005, n_estimators=160;, score=0.998 total time=   2.7s\n",
            "[CV 3/3] END criterion=gini, max_depth=55, max_features=log2, min_samples_leaf=0.001, min_samples_split=0.005, n_estimators=160;, score=0.998 total time=   2.7s\n",
            "[CV 1/3] END criterion=gini, max_depth=55, max_features=log2, min_samples_leaf=0.001, min_samples_split=0.005, n_estimators=190;, score=0.990 total time=   2.5s\n",
            "[CV 2/3] END criterion=gini, max_depth=55, max_features=log2, min_samples_leaf=0.001, min_samples_split=0.005, n_estimators=190;, score=0.997 total time=   2.4s\n",
            "[CV 3/3] END criterion=gini, max_depth=55, max_features=log2, min_samples_leaf=0.001, min_samples_split=0.005, n_estimators=190;, score=0.998 total time=   2.5s\n",
            "[CV 1/3] END criterion=gini, max_depth=55, max_features=log2, min_samples_leaf=0.005, min_samples_split=0.001, n_estimators=130;, score=0.973 total time=   1.5s\n",
            "[CV 2/3] END criterion=gini, max_depth=55, max_features=log2, min_samples_leaf=0.005, min_samples_split=0.001, n_estimators=130;, score=0.955 total time=   2.3s\n",
            "[CV 3/3] END criterion=gini, max_depth=55, max_features=log2, min_samples_leaf=0.005, min_samples_split=0.001, n_estimators=130;, score=0.963 total time=   2.0s\n",
            "[CV 1/3] END criterion=gini, max_depth=55, max_features=log2, min_samples_leaf=0.005, min_samples_split=0.001, n_estimators=160;, score=0.932 total time=   1.9s\n",
            "[CV 2/3] END criterion=gini, max_depth=55, max_features=log2, min_samples_leaf=0.005, min_samples_split=0.001, n_estimators=160;, score=0.957 total time=   1.9s\n",
            "[CV 3/3] END criterion=gini, max_depth=55, max_features=log2, min_samples_leaf=0.005, min_samples_split=0.001, n_estimators=160;, score=0.959 total time=   1.9s\n",
            "[CV 1/3] END criterion=gini, max_depth=55, max_features=log2, min_samples_leaf=0.005, min_samples_split=0.001, n_estimators=190;, score=0.972 total time=   2.2s\n",
            "[CV 2/3] END criterion=gini, max_depth=55, max_features=log2, min_samples_leaf=0.005, min_samples_split=0.001, n_estimators=190;, score=0.980 total time=   2.6s\n",
            "[CV 3/3] END criterion=gini, max_depth=55, max_features=log2, min_samples_leaf=0.005, min_samples_split=0.001, n_estimators=190;, score=0.960 total time=   3.0s\n",
            "[CV 1/3] END criterion=gini, max_depth=55, max_features=log2, min_samples_leaf=0.005, min_samples_split=0.005, n_estimators=130;, score=0.959 total time=   1.5s\n",
            "[CV 2/3] END criterion=gini, max_depth=55, max_features=log2, min_samples_leaf=0.005, min_samples_split=0.005, n_estimators=130;, score=0.971 total time=   1.5s\n",
            "[CV 3/3] END criterion=gini, max_depth=55, max_features=log2, min_samples_leaf=0.005, min_samples_split=0.005, n_estimators=130;, score=0.959 total time=   1.5s\n",
            "[CV 1/3] END criterion=gini, max_depth=55, max_features=log2, min_samples_leaf=0.005, min_samples_split=0.005, n_estimators=160;, score=0.962 total time=   1.9s\n",
            "[CV 2/3] END criterion=gini, max_depth=55, max_features=log2, min_samples_leaf=0.005, min_samples_split=0.005, n_estimators=160;, score=0.961 total time=   1.9s\n",
            "[CV 3/3] END criterion=gini, max_depth=55, max_features=log2, min_samples_leaf=0.005, min_samples_split=0.005, n_estimators=160;, score=0.950 total time=   2.3s\n",
            "[CV 1/3] END criterion=gini, max_depth=55, max_features=log2, min_samples_leaf=0.005, min_samples_split=0.005, n_estimators=190;, score=0.929 total time=   3.1s\n",
            "[CV 2/3] END criterion=gini, max_depth=55, max_features=log2, min_samples_leaf=0.005, min_samples_split=0.005, n_estimators=190;, score=0.944 total time=   2.2s\n",
            "[CV 3/3] END criterion=gini, max_depth=55, max_features=log2, min_samples_leaf=0.005, min_samples_split=0.005, n_estimators=190;, score=0.980 total time=   2.2s\n"
          ]
        },
        {
          "output_type": "execute_result",
          "data": {
            "text/plain": [
              "GridSearchCV(cv=3, estimator=RandomForestClassifier(class_weight='balanced'),\n",
              "             param_grid={'criterion': ['gini'], 'max_depth': [35, 55],\n",
              "                         'max_features': ['log2'],\n",
              "                         'min_samples_leaf': [0.001, 0.005],\n",
              "                         'min_samples_split': [0.001, 0.005],\n",
              "                         'n_estimators': [130, 160, 190]},\n",
              "             verbose=4)"
            ],
            "text/html": [
              "<style>#sk-container-id-4 {color: black;background-color: white;}#sk-container-id-4 pre{padding: 0;}#sk-container-id-4 div.sk-toggleable {background-color: white;}#sk-container-id-4 label.sk-toggleable__label {cursor: pointer;display: block;width: 100%;margin-bottom: 0;padding: 0.3em;box-sizing: border-box;text-align: center;}#sk-container-id-4 label.sk-toggleable__label-arrow:before {content: \"▸\";float: left;margin-right: 0.25em;color: #696969;}#sk-container-id-4 label.sk-toggleable__label-arrow:hover:before {color: black;}#sk-container-id-4 div.sk-estimator:hover label.sk-toggleable__label-arrow:before {color: black;}#sk-container-id-4 div.sk-toggleable__content {max-height: 0;max-width: 0;overflow: hidden;text-align: left;background-color: #f0f8ff;}#sk-container-id-4 div.sk-toggleable__content pre {margin: 0.2em;color: black;border-radius: 0.25em;background-color: #f0f8ff;}#sk-container-id-4 input.sk-toggleable__control:checked~div.sk-toggleable__content {max-height: 200px;max-width: 100%;overflow: auto;}#sk-container-id-4 input.sk-toggleable__control:checked~label.sk-toggleable__label-arrow:before {content: \"▾\";}#sk-container-id-4 div.sk-estimator input.sk-toggleable__control:checked~label.sk-toggleable__label {background-color: #d4ebff;}#sk-container-id-4 div.sk-label input.sk-toggleable__control:checked~label.sk-toggleable__label {background-color: #d4ebff;}#sk-container-id-4 input.sk-hidden--visually {border: 0;clip: rect(1px 1px 1px 1px);clip: rect(1px, 1px, 1px, 1px);height: 1px;margin: -1px;overflow: hidden;padding: 0;position: absolute;width: 1px;}#sk-container-id-4 div.sk-estimator {font-family: monospace;background-color: #f0f8ff;border: 1px dotted black;border-radius: 0.25em;box-sizing: border-box;margin-bottom: 0.5em;}#sk-container-id-4 div.sk-estimator:hover {background-color: #d4ebff;}#sk-container-id-4 div.sk-parallel-item::after {content: \"\";width: 100%;border-bottom: 1px solid gray;flex-grow: 1;}#sk-container-id-4 div.sk-label:hover label.sk-toggleable__label {background-color: #d4ebff;}#sk-container-id-4 div.sk-serial::before {content: \"\";position: absolute;border-left: 1px solid gray;box-sizing: border-box;top: 0;bottom: 0;left: 50%;z-index: 0;}#sk-container-id-4 div.sk-serial {display: flex;flex-direction: column;align-items: center;background-color: white;padding-right: 0.2em;padding-left: 0.2em;position: relative;}#sk-container-id-4 div.sk-item {position: relative;z-index: 1;}#sk-container-id-4 div.sk-parallel {display: flex;align-items: stretch;justify-content: center;background-color: white;position: relative;}#sk-container-id-4 div.sk-item::before, #sk-container-id-4 div.sk-parallel-item::before {content: \"\";position: absolute;border-left: 1px solid gray;box-sizing: border-box;top: 0;bottom: 0;left: 50%;z-index: -1;}#sk-container-id-4 div.sk-parallel-item {display: flex;flex-direction: column;z-index: 1;position: relative;background-color: white;}#sk-container-id-4 div.sk-parallel-item:first-child::after {align-self: flex-end;width: 50%;}#sk-container-id-4 div.sk-parallel-item:last-child::after {align-self: flex-start;width: 50%;}#sk-container-id-4 div.sk-parallel-item:only-child::after {width: 0;}#sk-container-id-4 div.sk-dashed-wrapped {border: 1px dashed gray;margin: 0 0.4em 0.5em 0.4em;box-sizing: border-box;padding-bottom: 0.4em;background-color: white;}#sk-container-id-4 div.sk-label label {font-family: monospace;font-weight: bold;display: inline-block;line-height: 1.2em;}#sk-container-id-4 div.sk-label-container {text-align: center;}#sk-container-id-4 div.sk-container {/* jupyter's `normalize.less` sets `[hidden] { display: none; }` but bootstrap.min.css set `[hidden] { display: none !important; }` so we also need the `!important` here to be able to override the default hidden behavior on the sphinx rendered scikit-learn.org. See: https://github.com/scikit-learn/scikit-learn/issues/21755 */display: inline-block !important;position: relative;}#sk-container-id-4 div.sk-text-repr-fallback {display: none;}</style><div id=\"sk-container-id-4\" class=\"sk-top-container\"><div class=\"sk-text-repr-fallback\"><pre>GridSearchCV(cv=3, estimator=RandomForestClassifier(class_weight=&#x27;balanced&#x27;),\n",
              "             param_grid={&#x27;criterion&#x27;: [&#x27;gini&#x27;], &#x27;max_depth&#x27;: [35, 55],\n",
              "                         &#x27;max_features&#x27;: [&#x27;log2&#x27;],\n",
              "                         &#x27;min_samples_leaf&#x27;: [0.001, 0.005],\n",
              "                         &#x27;min_samples_split&#x27;: [0.001, 0.005],\n",
              "                         &#x27;n_estimators&#x27;: [130, 160, 190]},\n",
              "             verbose=4)</pre><b>In a Jupyter environment, please rerun this cell to show the HTML representation or trust the notebook. <br />On GitHub, the HTML representation is unable to render, please try loading this page with nbviewer.org.</b></div><div class=\"sk-container\" hidden><div class=\"sk-item sk-dashed-wrapped\"><div class=\"sk-label-container\"><div class=\"sk-label sk-toggleable\"><input class=\"sk-toggleable__control sk-hidden--visually\" id=\"sk-estimator-id-6\" type=\"checkbox\" ><label for=\"sk-estimator-id-6\" class=\"sk-toggleable__label sk-toggleable__label-arrow\">GridSearchCV</label><div class=\"sk-toggleable__content\"><pre>GridSearchCV(cv=3, estimator=RandomForestClassifier(class_weight=&#x27;balanced&#x27;),\n",
              "             param_grid={&#x27;criterion&#x27;: [&#x27;gini&#x27;], &#x27;max_depth&#x27;: [35, 55],\n",
              "                         &#x27;max_features&#x27;: [&#x27;log2&#x27;],\n",
              "                         &#x27;min_samples_leaf&#x27;: [0.001, 0.005],\n",
              "                         &#x27;min_samples_split&#x27;: [0.001, 0.005],\n",
              "                         &#x27;n_estimators&#x27;: [130, 160, 190]},\n",
              "             verbose=4)</pre></div></div></div><div class=\"sk-parallel\"><div class=\"sk-parallel-item\"><div class=\"sk-item\"><div class=\"sk-label-container\"><div class=\"sk-label sk-toggleable\"><input class=\"sk-toggleable__control sk-hidden--visually\" id=\"sk-estimator-id-7\" type=\"checkbox\" ><label for=\"sk-estimator-id-7\" class=\"sk-toggleable__label sk-toggleable__label-arrow\">estimator: RandomForestClassifier</label><div class=\"sk-toggleable__content\"><pre>RandomForestClassifier(class_weight=&#x27;balanced&#x27;)</pre></div></div></div><div class=\"sk-serial\"><div class=\"sk-item\"><div class=\"sk-estimator sk-toggleable\"><input class=\"sk-toggleable__control sk-hidden--visually\" id=\"sk-estimator-id-8\" type=\"checkbox\" ><label for=\"sk-estimator-id-8\" class=\"sk-toggleable__label sk-toggleable__label-arrow\">RandomForestClassifier</label><div class=\"sk-toggleable__content\"><pre>RandomForestClassifier(class_weight=&#x27;balanced&#x27;)</pre></div></div></div></div></div></div></div></div></div></div>"
            ]
          },
          "metadata": {},
          "execution_count": 34
        }
      ]
    },
    {
      "cell_type": "code",
      "source": [
        "model_rfg.best_params_"
      ],
      "metadata": {
        "colab": {
          "base_uri": "https://localhost:8080/"
        },
        "id": "vQeXDzJqL7rc",
        "outputId": "40269038-5f40-4433-ee12-795ff89ade42"
      },
      "execution_count": 35,
      "outputs": [
        {
          "output_type": "execute_result",
          "data": {
            "text/plain": [
              "{'criterion': 'gini',\n",
              " 'max_depth': 55,\n",
              " 'max_features': 'log2',\n",
              " 'min_samples_leaf': 0.001,\n",
              " 'min_samples_split': 0.001,\n",
              " 'n_estimators': 130}"
            ]
          },
          "metadata": {},
          "execution_count": 35
        }
      ]
    },
    {
      "cell_type": "code",
      "source": [
        "model_rf_fin = RandomForestClassifier(class_weight='balanced',\n",
        "                                      criterion='gini',\n",
        "                                      max_depth=55,\n",
        "                                      max_features='log2',\n",
        "                                      min_samples_leaf=0.001,\n",
        "                                      min_samples_split=0.001,\n",
        "                                      n_estimators=130)"
      ],
      "metadata": {
        "id": "88joxpqeL7vj"
      },
      "execution_count": 36,
      "outputs": []
    },
    {
      "cell_type": "code",
      "source": [
        "model_rf_fin.fit(X_train, Y_train)"
      ],
      "metadata": {
        "colab": {
          "base_uri": "https://localhost:8080/",
          "height": 109
        },
        "id": "ViOEZIiZMMee",
        "outputId": "58b1be88-b118-4b4d-dd60-1f0d7db2c870"
      },
      "execution_count": 38,
      "outputs": [
        {
          "output_type": "execute_result",
          "data": {
            "text/plain": [
              "RandomForestClassifier(class_weight='balanced', max_depth=55,\n",
              "                       max_features='log2', min_samples_leaf=0.001,\n",
              "                       min_samples_split=0.001, n_estimators=130)"
            ],
            "text/html": [
              "<style>#sk-container-id-5 {color: black;background-color: white;}#sk-container-id-5 pre{padding: 0;}#sk-container-id-5 div.sk-toggleable {background-color: white;}#sk-container-id-5 label.sk-toggleable__label {cursor: pointer;display: block;width: 100%;margin-bottom: 0;padding: 0.3em;box-sizing: border-box;text-align: center;}#sk-container-id-5 label.sk-toggleable__label-arrow:before {content: \"▸\";float: left;margin-right: 0.25em;color: #696969;}#sk-container-id-5 label.sk-toggleable__label-arrow:hover:before {color: black;}#sk-container-id-5 div.sk-estimator:hover label.sk-toggleable__label-arrow:before {color: black;}#sk-container-id-5 div.sk-toggleable__content {max-height: 0;max-width: 0;overflow: hidden;text-align: left;background-color: #f0f8ff;}#sk-container-id-5 div.sk-toggleable__content pre {margin: 0.2em;color: black;border-radius: 0.25em;background-color: #f0f8ff;}#sk-container-id-5 input.sk-toggleable__control:checked~div.sk-toggleable__content {max-height: 200px;max-width: 100%;overflow: auto;}#sk-container-id-5 input.sk-toggleable__control:checked~label.sk-toggleable__label-arrow:before {content: \"▾\";}#sk-container-id-5 div.sk-estimator input.sk-toggleable__control:checked~label.sk-toggleable__label {background-color: #d4ebff;}#sk-container-id-5 div.sk-label input.sk-toggleable__control:checked~label.sk-toggleable__label {background-color: #d4ebff;}#sk-container-id-5 input.sk-hidden--visually {border: 0;clip: rect(1px 1px 1px 1px);clip: rect(1px, 1px, 1px, 1px);height: 1px;margin: -1px;overflow: hidden;padding: 0;position: absolute;width: 1px;}#sk-container-id-5 div.sk-estimator {font-family: monospace;background-color: #f0f8ff;border: 1px dotted black;border-radius: 0.25em;box-sizing: border-box;margin-bottom: 0.5em;}#sk-container-id-5 div.sk-estimator:hover {background-color: #d4ebff;}#sk-container-id-5 div.sk-parallel-item::after {content: \"\";width: 100%;border-bottom: 1px solid gray;flex-grow: 1;}#sk-container-id-5 div.sk-label:hover label.sk-toggleable__label {background-color: #d4ebff;}#sk-container-id-5 div.sk-serial::before {content: \"\";position: absolute;border-left: 1px solid gray;box-sizing: border-box;top: 0;bottom: 0;left: 50%;z-index: 0;}#sk-container-id-5 div.sk-serial {display: flex;flex-direction: column;align-items: center;background-color: white;padding-right: 0.2em;padding-left: 0.2em;position: relative;}#sk-container-id-5 div.sk-item {position: relative;z-index: 1;}#sk-container-id-5 div.sk-parallel {display: flex;align-items: stretch;justify-content: center;background-color: white;position: relative;}#sk-container-id-5 div.sk-item::before, #sk-container-id-5 div.sk-parallel-item::before {content: \"\";position: absolute;border-left: 1px solid gray;box-sizing: border-box;top: 0;bottom: 0;left: 50%;z-index: -1;}#sk-container-id-5 div.sk-parallel-item {display: flex;flex-direction: column;z-index: 1;position: relative;background-color: white;}#sk-container-id-5 div.sk-parallel-item:first-child::after {align-self: flex-end;width: 50%;}#sk-container-id-5 div.sk-parallel-item:last-child::after {align-self: flex-start;width: 50%;}#sk-container-id-5 div.sk-parallel-item:only-child::after {width: 0;}#sk-container-id-5 div.sk-dashed-wrapped {border: 1px dashed gray;margin: 0 0.4em 0.5em 0.4em;box-sizing: border-box;padding-bottom: 0.4em;background-color: white;}#sk-container-id-5 div.sk-label label {font-family: monospace;font-weight: bold;display: inline-block;line-height: 1.2em;}#sk-container-id-5 div.sk-label-container {text-align: center;}#sk-container-id-5 div.sk-container {/* jupyter's `normalize.less` sets `[hidden] { display: none; }` but bootstrap.min.css set `[hidden] { display: none !important; }` so we also need the `!important` here to be able to override the default hidden behavior on the sphinx rendered scikit-learn.org. See: https://github.com/scikit-learn/scikit-learn/issues/21755 */display: inline-block !important;position: relative;}#sk-container-id-5 div.sk-text-repr-fallback {display: none;}</style><div id=\"sk-container-id-5\" class=\"sk-top-container\"><div class=\"sk-text-repr-fallback\"><pre>RandomForestClassifier(class_weight=&#x27;balanced&#x27;, max_depth=55,\n",
              "                       max_features=&#x27;log2&#x27;, min_samples_leaf=0.001,\n",
              "                       min_samples_split=0.001, n_estimators=130)</pre><b>In a Jupyter environment, please rerun this cell to show the HTML representation or trust the notebook. <br />On GitHub, the HTML representation is unable to render, please try loading this page with nbviewer.org.</b></div><div class=\"sk-container\" hidden><div class=\"sk-item\"><div class=\"sk-estimator sk-toggleable\"><input class=\"sk-toggleable__control sk-hidden--visually\" id=\"sk-estimator-id-9\" type=\"checkbox\" checked><label for=\"sk-estimator-id-9\" class=\"sk-toggleable__label sk-toggleable__label-arrow\">RandomForestClassifier</label><div class=\"sk-toggleable__content\"><pre>RandomForestClassifier(class_weight=&#x27;balanced&#x27;, max_depth=55,\n",
              "                       max_features=&#x27;log2&#x27;, min_samples_leaf=0.001,\n",
              "                       min_samples_split=0.001, n_estimators=130)</pre></div></div></div></div></div>"
            ]
          },
          "metadata": {},
          "execution_count": 38
        }
      ]
    },
    {
      "cell_type": "code",
      "source": [
        "pipeline_randomforest =  Pipeline([('scaler1', StandardScaler()),\n",
        "                               ('pca1',PCA(n_components=2)),\n",
        "                               ('rf_classifier',RandomForestClassifier())])"
      ],
      "metadata": {
        "id": "ptH8ix-gMMgy"
      },
      "execution_count": 39,
      "outputs": []
    },
    {
      "cell_type": "code",
      "source": [
        "pipeline_randomforest.fit(X_train,Y_train)\n",
        "pred = pipeline_randomforest.predict(X_test)\n",
        "accuracy_score(Y_test,pred)"
      ],
      "metadata": {
        "colab": {
          "base_uri": "https://localhost:8080/"
        },
        "id": "E0TIHaizMMjG",
        "outputId": "3ccbb1b9-0053-457e-f93b-2d29b3bf7300"
      },
      "execution_count": 41,
      "outputs": [
        {
          "output_type": "execute_result",
          "data": {
            "text/plain": [
              "0.9700542207630702"
            ]
          },
          "metadata": {},
          "execution_count": 41
        }
      ]
    }
  ]
}